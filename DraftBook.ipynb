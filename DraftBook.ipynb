{
 "cells": [
  {
   "cell_type": "code",
   "execution_count": 6,
   "metadata": {},
   "outputs": [
    {
     "name": "stdout",
     "output_type": "stream",
     "text": [
      "nihao\n",
      "{'A': 'N', 'B': 'I', 'C': 'H', 'D': 'A', 'E': 'O', 'F': 'B', 'G': 'C', 'H': 'D', 'I': 'E', 'J': 'F', 'K': 'G', 'L': 'J', 'M': 'K', 'N': 'L', 'O': 'M', 'P': 'P', 'Q': 'Q', 'R': 'R', 'S': 'S', 'T': 'T', 'U': 'U', 'V': 'V', 'W': 'W', 'X': 'X', 'Y': 'Y', 'Z': 'Z'}\n"
     ]
    }
   ],
   "source": [
    "letter = list('ABCDEFGHIJKLMNOPQRSTUVWXYZ')\n",
    "new_letter = []\n",
    "pin = list(str(input()).upper())\n",
    "dedup_pin = list(set(pin))\n",
    "dedup_pin.sort(key=pin.index)\n",
    "res_letter = list('ABCDEFGHIJKLMNOPQRSTUVWXYZ')\n",
    "for i in range(len(dedup_pin)):\n",
    "    new_letter.append(dedup_pin[i])\n",
    "    res_letter.remove(dedup_pin[i])\n",
    "code = new_letter + res_letter\n",
    "code_dict ={}\n",
    "for i, v in enumerate(code):\n",
    "    code_dict[letter[i]] = v\n",
    "print(code_dict)"
   ]
  },
  {
   "cell_type": "code",
   "execution_count": 7,
   "metadata": {},
   "outputs": [
    {
     "name": "stdout",
     "output_type": "stream",
     "text": [
      "ni\n",
      "le\n"
     ]
    }
   ],
   "source": [
    "s = str(input())\n",
    "ns = ''\n",
    "for i in s:\n",
    "    if i.isupper():\n",
    "        i = code_dict[i]\n",
    "        ns += i\n",
    "    elif i.islower():\n",
    "        i = code_dict[i.upper()].lower()\n",
    "        ns += i\n",
    "    else:\n",
    "        ns += i\n",
    "print(ns)"
   ]
  },
  {
   "cell_type": "code",
   "execution_count": null,
   "metadata": {},
   "outputs": [],
   "source": [
    "T R A I L B Z E S C D F G H J K M N O P Q U V W X Y"
   ]
  },
  {
   "cell_type": "code",
   "execution_count": 22,
   "metadata": {},
   "outputs": [],
   "source": [
    "def letter_freq(s):\n",
    "    freq = {}\n",
    "    for i in s:\n",
    "        freq[i] = s.count(i)\n",
    "    return freq"
   ]
  },
  {
   "cell_type": "code",
   "execution_count": 42,
   "metadata": {},
   "outputs": [
    {
     "name": "stdout",
     "output_type": "stream",
     "text": [
      "{'z': 1, 'h': 1, 'a': 2, 'n': 2, 'g': 1, 's': 1}\n"
     ]
    }
   ],
   "source": [
    "s = 'zhangsan'\n",
    "freq = letter_freq(s)\n",
    "print(freq)"
   ]
  },
  {
   "cell_type": "code",
   "execution_count": 43,
   "metadata": {},
   "outputs": [
    {
     "name": "stdout",
     "output_type": "stream",
     "text": [
      "[('a', 2), ('n', 2), ('z', 1), ('h', 1), ('g', 1), ('s', 1)]\n"
     ]
    }
   ],
   "source": [
    "sort_freq = sorted(freq.items(), key=lambda x:x[1], reverse = True)\n",
    "print(sort_freq)"
   ]
  },
  {
   "cell_type": "code",
   "execution_count": 44,
   "metadata": {},
   "outputs": [
    {
     "name": "stdout",
     "output_type": "stream",
     "text": [
      "192\n"
     ]
    }
   ],
   "source": [
    "score = 0\n",
    "for i in range(len(sort_freq)):\n",
    "    score += sort_freq[i][1] * (26 - i)\n",
    "print(score)"
   ]
  },
  {
   "cell_type": "code",
   "execution_count": 56,
   "metadata": {},
   "outputs": [
    {
     "data": {
      "text/plain": [
       "[6, 1, 2, 3, 4, 5]"
      ]
     },
     "execution_count": 56,
     "metadata": {},
     "output_type": "execute_result"
    }
   ],
   "source": [
    "l = [1,2,3,4,5]\n",
    "x = 6\n",
    "l.insert(, x)\n",
    "l"
   ]
  },
  {
   "cell_type": "code",
   "execution_count": 74,
   "metadata": {},
   "outputs": [
    {
     "name": "stdout",
     "output_type": "stream",
     "text": [
      "[['3', '2'], ['4', '3'], ['5', '2'], ['1', '4']]\n"
     ]
    }
   ],
   "source": [
    "s = '5 2 3 2 4 3 5 2 1 4 3'.split(' ')\n",
    "N = s[0]\n",
    "del_num = s[-1]\n",
    "head = s[1]\n",
    "s.pop(-1)\n",
    "s.pop(0)\n",
    "s.pop(0)\n",
    "nodes = [s[i:i+2] for i in range(0,len(s),2)]\n",
    "print(nodes)"
   ]
  },
  {
   "cell_type": "code",
   "execution_count": 78,
   "metadata": {},
   "outputs": [
    {
     "name": "stdout",
     "output_type": "stream",
     "text": [
      "2 5 4 1\n"
     ]
    }
   ],
   "source": [
    "s = '5 2 3 2 4 3 5 2 1 4 3'.split(' ')\n",
    "N = int(s[0])\n",
    "del_num = s[-1]\n",
    "head = s[1]\n",
    "s.pop(-1)\n",
    "s.pop(0)\n",
    "s.pop(0)\n",
    "nodes = [s[i:i+2] for i in range(0,len(s),2)]\n",
    "sheet = []\n",
    "sheet.append(head)\n",
    "for i in range(N - 1):\n",
    "    add, node = nodes[i][0], nodes[i][1]\n",
    "    if node in sheet:\n",
    "        sheet.insert(sheet.index(node) + 1, add)\n",
    "sheet.remove(del_num)\n",
    "print(' '.join(sheet))"
   ]
  },
  {
   "cell_type": "code",
   "execution_count": null,
   "metadata": {},
   "outputs": [],
   "source": [
    "5 2 3 2 4 3 5 2 1 4 3"
   ]
  },
  {
   "cell_type": "code",
   "execution_count": 63,
   "metadata": {},
   "outputs": [
    {
     "name": "stdout",
     "output_type": "stream",
     "text": [
      "5\n"
     ]
    },
    {
     "ename": "IndexError",
     "evalue": "list index out of range",
     "output_type": "error",
     "traceback": [
      "\u001b[0;31m---------------------------------------------------------------------------\u001b[0m",
      "\u001b[0;31mIndexError\u001b[0m                                Traceback (most recent call last)",
      "\u001b[0;32m<ipython-input-63-0db66d9f90bc>\u001b[0m in \u001b[0;36m<module>\u001b[0;34m\u001b[0m\n\u001b[1;32m      1\u001b[0m \u001b[0ms\u001b[0m\u001b[0;34m=\u001b[0m\u001b[0minput\u001b[0m\u001b[0;34m(\u001b[0m\u001b[0;34m)\u001b[0m\u001b[0;34m.\u001b[0m\u001b[0msplit\u001b[0m\u001b[0;34m(\u001b[0m\u001b[0;34m)\u001b[0m\u001b[0;34m\u001b[0m\u001b[0;34m\u001b[0m\u001b[0m\n\u001b[1;32m      2\u001b[0m \u001b[0mn\u001b[0m\u001b[0;34m=\u001b[0m\u001b[0mint\u001b[0m\u001b[0;34m(\u001b[0m\u001b[0ms\u001b[0m\u001b[0;34m[\u001b[0m\u001b[0;36m0\u001b[0m\u001b[0;34m]\u001b[0m\u001b[0;34m)\u001b[0m\u001b[0;34m\u001b[0m\u001b[0;34m\u001b[0m\u001b[0m\n\u001b[0;32m----> 3\u001b[0;31m \u001b[0mres\u001b[0m\u001b[0;34m=\u001b[0m\u001b[0;34m[\u001b[0m\u001b[0ms\u001b[0m\u001b[0;34m[\u001b[0m\u001b[0;36m1\u001b[0m\u001b[0;34m]\u001b[0m\u001b[0;34m]\u001b[0m\u001b[0;34m\u001b[0m\u001b[0;34m\u001b[0m\u001b[0m\n\u001b[0m\u001b[1;32m      4\u001b[0m \u001b[0mrm\u001b[0m\u001b[0;34m=\u001b[0m\u001b[0ms\u001b[0m\u001b[0;34m[\u001b[0m\u001b[0;34m-\u001b[0m\u001b[0;36m1\u001b[0m\u001b[0;34m]\u001b[0m\u001b[0;34m\u001b[0m\u001b[0;34m\u001b[0m\u001b[0m\n\u001b[1;32m      5\u001b[0m \u001b[0;32mfor\u001b[0m \u001b[0mi\u001b[0m \u001b[0;32min\u001b[0m \u001b[0mrange\u001b[0m\u001b[0;34m(\u001b[0m\u001b[0mn\u001b[0m\u001b[0;34m-\u001b[0m\u001b[0;36m1\u001b[0m\u001b[0;34m)\u001b[0m\u001b[0;34m:\u001b[0m\u001b[0;34m\u001b[0m\u001b[0;34m\u001b[0m\u001b[0m\n",
      "\u001b[0;31mIndexError\u001b[0m: list index out of range"
     ]
    }
   ],
   "source": [
    "s=input().split()\n",
    "n=int(s[0])\n",
    "res=[s[1]]\n",
    "rm=s[-1]\n",
    "for i in range(n-1):\n",
    "    a=s[2+i*2]\n",
    "    b=s[3+i*2]\n",
    "    res.insert(res.index(b)+1,a)\n",
    "res.remove(rm)\n",
    "print(' '.join(res)+' ')"
   ]
  },
  {
   "cell_type": "code",
   "execution_count": null,
   "metadata": {},
   "outputs": [],
   "source": [
    "help(itertools.combinations)"
   ]
  },
  {
   "cell_type": "code",
   "execution_count": null,
   "metadata": {},
   "outputs": [],
   "source": [
    "while True:\n",
    "    try:\n",
    "        M = int(input())\n",
    "        N = int(input())\n",
    "        combos = itertools.combinations(range(M),N)\n",
    "        combos\n",
    "        break\n",
    "    except:\n",
    "        break"
   ]
  },
  {
   "cell_type": "code",
   "execution_count": null,
   "metadata": {},
   "outputs": [],
   "source": [
    "for i in itertools.combinations(range(7),3):\n",
    "    print(i)"
   ]
  },
  {
   "cell_type": "code",
   "execution_count": null,
   "metadata": {},
   "outputs": [],
   "source": [
    "def PutApple(apple,plate):\n",
    "    if apple == 0:\n",
    "        return 1\n",
    "    elif plate == 1:\n",
    "        return 1\n",
    "    elif apple < plate:\n",
    "        return PutApple(apple, apple)\n",
    "    elif apple >= plate:\n",
    "        return PutApple(apple, plate - 1) + PutApple(apple - plate, plate)\n"
   ]
  },
  {
   "cell_type": "code",
   "execution_count": null,
   "metadata": {},
   "outputs": [],
   "source": [
    "m,n = map(int,input().split())"
   ]
  },
  {
   "cell_type": "code",
   "execution_count": null,
   "metadata": {},
   "outputs": [],
   "source": [
    "M, N = input().split(\" \")\n",
    "M = int(float(M))\n",
    "N = int(float(N))\n",
    "print(putApple(M, N))"
   ]
  },
  {
   "cell_type": "code",
   "execution_count": null,
   "metadata": {},
   "outputs": [],
   "source": [
    "while True:\n",
    "    try:\n",
    "        M, N = str(input()).split(' ')\n",
    "        print(PutApple(M,N))\n",
    "        break\n",
    "    except:\n",
    "        break"
   ]
  },
  {
   "cell_type": "code",
   "execution_count": null,
   "metadata": {},
   "outputs": [],
   "source": [
    "def putApple(a, p):\n",
    "\tif a == 0:\n",
    "\t\treturn 1\n",
    "\tif p == 1:\n",
    "\t\treturn 1\n",
    "\telif a < p:\n",
    "\t\treturn putApple(a, a)\n",
    "\telse:\n",
    "\t\treturn putApple(a-p, p) + putApple(a, p-1)\n",
    "\n",
    "m, n = input().split(\" \")\n",
    "result = putApple(int(m), int(n))\n",
    "print(result)"
   ]
  },
  {
   "cell_type": "code",
   "execution_count": null,
   "metadata": {},
   "outputs": [],
   "source": [
    "def PutApple(apple,plate):\n",
    "    if apple == 0:\n",
    "        return 1\n",
    "    elif plate == 1:\n",
    "        return 1\n",
    "    elif apple < plate:\n",
    "        return PutApple(apple, apple)\n",
    "    elif apple >= plate:\n",
    "        return PutApple(apple, plate - 1) + PutApple(apple - plate, plate)\n",
    "while True:\n",
    "    try:\n",
    "        M, N = input().split(\" \")\n",
    "        print(PutApple(int(M),int(N)))\n",
    "        break\n",
    "    except:\n",
    "        break"
   ]
  },
  {
   "cell_type": "code",
   "execution_count": null,
   "metadata": {},
   "outputs": [],
   "source": [
    "['what is your name'].contain('w i')"
   ]
  },
  {
   "cell_type": "code",
   "execution_count": null,
   "metadata": {},
   "outputs": [],
   "source": [
    "\"B B\" in ['Break Bad']"
   ]
  },
  {
   "cell_type": "code",
   "execution_count": null,
   "metadata": {},
   "outputs": [],
   "source": [
    "import re"
   ]
  },
  {
   "cell_type": "code",
   "execution_count": null,
   "metadata": {},
   "outputs": [],
   "source": [
    "s = 'Hello world'"
   ]
  },
  {
   "cell_type": "code",
   "execution_count": null,
   "metadata": {},
   "outputs": [],
   "source": [
    "if 'llo' in s:\n",
    "    print(2)"
   ]
  },
  {
   "cell_type": "code",
   "execution_count": null,
   "metadata": {},
   "outputs": [],
   "source": [
    "if "
   ]
  },
  {
   "cell_type": "code",
   "execution_count": null,
   "metadata": {},
   "outputs": [],
   "source": [
    "cmd_dic1 = {'reset':'reset what', 'unkcmd':'unknown commond'}\n",
    "cmd_dic2 = {'reset board': 'board fault',\n",
    "            'board add': 'where to add',\n",
    "            'board delete': 'no board at all',\n",
    "            'reboot backplane': 'impossible',\n",
    "            'backplane absot': 'install first'}"
   ]
  },
  {
   "cell_type": "code",
   "execution_count": null,
   "metadata": {},
   "outputs": [],
   "source": [
    "cmd1 = 're'\n",
    "cmd2 = 'b d'\n",
    "cmd3 = 'gg'\n",
    "cmd1\n",
    "cmd_dic2['reset board'][:len(cmd1)]"
   ]
  },
  {
   "cell_type": "code",
   "execution_count": null,
   "metadata": {},
   "outputs": [],
   "source": [
    "cmd1 in cmd_dic1['reset'][:len(cmd1)]"
   ]
  },
  {
   "cell_type": "code",
   "execution_count": null,
   "metadata": {},
   "outputs": [],
   "source": [
    "while True:\n",
    "    try:\n",
    "        cmd = input().split()\n",
    "        cmd_dic1 = {'reset':'reset what'}\n",
    "        cmd_dic2 = {'reset board': 'board fault',\n",
    "                    'board add': 'where to add',\n",
    "                    'board delete': 'no board at all',\n",
    "                    'reboot backplane': 'impossible',\n",
    "                    'backplane abort': 'install first'}\n",
    "        unkcmd = 'unknown command'\n",
    "        finding_flag = False\n",
    "        if len(cmd) == 1:\n",
    "            for key in cmd_dic1.keys():\n",
    "                if cmd[0] in key[:len(cmd[0])]:\n",
    "                    print(cmd_dic1[key])\n",
    "                    finding_flag = True\n",
    "            if not finding_flag:\n",
    "                print(unkcmd)\n",
    "        elif len(cmd) == 2:\n",
    "            for key in cmd_dic2.keys():\n",
    "                if cmd[0] in key[:len(cmd[0])] and cmd[1] in key.split()[1][:len(cmd[1])]:\n",
    "                    print(cmd_dic2[key])\n",
    "                    finding_flag = True\n",
    "            if not finding_flag:\n",
    "                print(unkcmd)\n",
    "        else:\n",
    "            print(unkcmd)\n",
    "    except:\n",
    "        break"
   ]
  },
  {
   "cell_type": "code",
   "execution_count": null,
   "metadata": {},
   "outputs": [],
   "source": [
    "cmd = input().split()\n",
    "cmd_dic1 = {'reset':'reset what'}\n",
    "cmd_dic2 = {'reset board': 'board fault',\n",
    "            'board add': 'where to add',\n",
    "            'board delete': 'no board at all',\n",
    "            'reboot backplane': 'impossible',\n",
    "            'backplane abort': 'install first'}\n",
    "unkcmd = 'unknown cmmand'\n",
    "finding_flag = False\n",
    "if len(cmd) == 1:\n",
    "    for key in cmd_dic1.keys():\n",
    "        if cmd[0] in key[:len(cmd[0])]:\n",
    "            print(cmd_dic1[key])\n",
    "            finding_flag = True\n",
    "    if not finding_flag:\n",
    "            print(unkcmd)\n",
    "if len(cmd) == 2:\n",
    "    for key in cmd_dic2.keys():\n",
    "        if cmd[0] in key[:len(cmd[0])] and cmd[1] in key.split()[1][:len(cmd[1])]:\n",
    "            print(cmd_dic2[key])\n",
    "            finding_flag = True\n",
    "    if not finding_flag:\n",
    "        print(unkcmd)"
   ]
  },
  {
   "cell_type": "code",
   "execution_count": null,
   "metadata": {},
   "outputs": [],
   "source": [
    "while True:\n",
    "    try:\n",
    "        cmd = input().split()\n",
    "        cmd_dic1 = {'reset':'reset what'}\n",
    "        cmd_dic2 = {'reset board': 'board fault',\n",
    "                    'board add': 'where to add',\n",
    "                    'board delete': 'no board at all',\n",
    "                    'reboot backplane': 'impossible',\n",
    "                    'backplane abort': 'install first'}\n",
    "        unkcmd = 'unknown command'\n",
    "        finding_flag = False\n",
    "        if len(cmd) is 1:\n",
    "            for key in cmd_dic1.keys():\n",
    "                if cmd[0] in key[:len(cmd[0])]:\n",
    "                    print(cmd_dic1[key])\n",
    "                    finding_flag = True\n",
    "            if not finding_flag:\n",
    "                    print(unkcmd,1)\n",
    "        if len(cmd) is 2:\n",
    "            for key in cmd_dic2.keys():\n",
    "                if cmd[0] in key[:len(cmd[0])] and cmd[1] in key.split()[1][:len(cmd[1])]:\n",
    "                    print(cmd_dic2[key])\n",
    "                    finding_flag = True\n",
    "            if not finding_flag:\n",
    "                print(unkcmd,2)\n",
    "        else:\n",
    "            print(unkcmd,3)\n",
    "    except:\n",
    "        break"
   ]
  },
  {
   "cell_type": "code",
   "execution_count": null,
   "metadata": {},
   "outputs": [],
   "source": [
    "for x in range(1,20):\n",
    "    print(x)"
   ]
  },
  {
   "cell_type": "code",
   "execution_count": null,
   "metadata": {},
   "outputs": [],
   "source": [
    "total_money = 100  \n",
    "for x in range(0, int(total_money/5)):\n",
    "    for y in range(1, int(total_money/3)):\n",
    "        if 5 * x + 3 * y + 1/3 * (100 - x - y) == 100:\n",
    "            print(x, y, 100 - x - y)"
   ]
  },
  {
   "cell_type": "code",
   "execution_count": null,
   "metadata": {},
   "outputs": [],
   "source": [
    "x = [1,2,3,4,5,6]"
   ]
  },
  {
   "cell_type": "code",
   "execution_count": null,
   "metadata": {},
   "outputs": [],
   "source": [
    "sum(x[0:2])"
   ]
  },
  {
   "cell_type": "code",
   "execution_count": null,
   "metadata": {},
   "outputs": [],
   "source": [
    "while True:\n",
    "    try:\n",
    "        year, month, day = input().split(' ')\n",
    "        year = int(year)\n",
    "        month = int(month)\n",
    "        day = int(day)\n",
    "        leapflag = False\n",
    "        if year%4 == 0 and year%100 != 0:\n",
    "            leapflag = True\n",
    "        if month > 12 or day > 31:\n",
    "            break\n",
    "        elif month in [4,6,9,11] and day > 30:\n",
    "            break\n",
    "        elif month in [1,3,5,7,8,10,12] and day > 31:\n",
    "            break\n",
    "        elif month == 2:\n",
    "            if leapflag == True and day > 29:\n",
    "                break\n",
    "            elif leapflag == False and day > 28:\n",
    "                break\n",
    "        month_list = [31,28,31,30,31,30,31,31,30,31,30,31]\n",
    "        actual_day = sum(month_list[0:month - 1]) + day\n",
    "        if leapflag == True:\n",
    "            print(actual_day + 1)\n",
    "        else:\n",
    "            print(actual_day)\n",
    "    except:\n",
    "        break"
   ]
  },
  {
   "cell_type": "code",
   "execution_count": null,
   "metadata": {},
   "outputs": [],
   "source": [
    "year, month, day = '2012 12 31'.split(' ')\n",
    "year = int(year)\n",
    "month = int(month)\n",
    "day = int(day)\n",
    "leapflag = False\n",
    "if year%4 == 0 and year%100 != 0:\n",
    "    leapflag = True\n",
    "month_list = [31,28,31,30,31,30,31,31,30,31,30,31]\n",
    "actual_day = sum(month_list[0:month - 1]) + day\n",
    "if leapflag == True:\n",
    "    print(actual_day + 1)\n",
    "else:\n",
    "    print(actual_day)"
   ]
  },
  {
   "cell_type": "code",
   "execution_count": null,
   "metadata": {},
   "outputs": [],
   "source": [
    "s1 = 'asdfas'\n",
    "s2 = 'werasdfaswer'\n"
   ]
  },
  {
   "cell_type": "code",
   "execution_count": null,
   "metadata": {},
   "outputs": [],
   "source": [
    "while True:\n",
    "    try:\n",
    "        s1, s2 = input().split(' ')\n",
    "        max_length = 0\n",
    "        for i in range(len(s1)):\n",
    "            for j in range(len(s2)):\n",
    "                word = s1[i: i+j+1]\n",
    "                if word in s2 and len(word) > max_length:\n",
    "                    max_length = len(word)\n",
    "        print(max_length)\n",
    "    except:\n",
    "        break"
   ]
  },
  {
   "cell_type": "code",
   "execution_count": null,
   "metadata": {},
   "outputs": [],
   "source": [
    "5**3"
   ]
  },
  {
   "cell_type": "code",
   "execution_count": null,
   "metadata": {},
   "outputs": [],
   "source": [
    "21+23+25+27+29"
   ]
  },
  {
   "cell_type": "code",
   "execution_count": null,
   "metadata": {},
   "outputs": [],
   "source": [
    "m = 6\n",
    "x0 = str(m *(m - 1) + 1)\n",
    "out_list = [x0]\n",
    "for i in range(1,m):\n",
    "    out_list.append(str(int(x0) + 2*i))\n",
    "print('+'.join(out_list))"
   ]
  },
  {
   "cell_type": "code",
   "execution_count": null,
   "metadata": {},
   "outputs": [],
   "source": [
    "row, col = map(int, input().split(' '))\n",
    "if row > 9 or row < 0 or col > 9 or col < 0:\n",
    "    print(-1)\n",
    "else:\n",
    "    print(0)\n",
    "swap_row1, swap_col1, swap_row2, swap_col2 = map(int, input().split(' '))\n",
    "if swap_row1 > row or swap_row2 > row or swap_col1 > col or swap_col2 > col:\n",
    "    print(-1)\n",
    "elif swap_row1 == swap_row2 and swap_col1 == swap_col2:\n",
    "    print(-1)\n",
    "else:\n",
    "    print(0)\n",
    "insert_row = int(input())\n",
    "if insert_row > row or insert_row < 0 or row + 1 > 9:\n",
    "    print(-1)\n",
    "else:\n",
    "    print(0)\n",
    "    row += 1\n",
    "insert_col = int(input())\n",
    "if insert_col > row or insert_col < 0 or col + 1 > 9:\n",
    "    print(-1)\n",
    "else:\n",
    "    print(0)\n",
    "    col += 1\n",
    "trace_row, trace_col = map(int, input().split(' '))\n",
    "if trace_row > row or trace_col > col:\n",
    "    print(-1)\n",
    "else:\n",
    "    print(0)"
   ]
  },
  {
   "cell_type": "code",
   "execution_count": null,
   "metadata": {},
   "outputs": [],
   "source": [
    "s = 'ABSBAXXX'"
   ]
  },
  {
   "cell_type": "code",
   "execution_count": null,
   "metadata": {},
   "outputs": [],
   "source": [
    "l = len(s)\n",
    "dp = [[0] * l for i in range(l)]\n",
    "print(dp,1)\n",
    "for i in range(l):\n",
    "    dp[i][i] = 1\n",
    "print(dp,2)\n",
    "for k in range(2, l+1):\n",
    "    for i in range(0, l-k+1):\n",
    "        j = i + k - 1\n",
    "        if s[i] == s[j]:\n",
    "            dp[i][j] = dp[i + 1][j - 1] + 2\n",
    "        else:\n",
    "            dp[i][j] = max(dp[i][j - 1], dp[i + 1][j])\n",
    "print(dp,3)\n",
    "print(dp[0][l-1])"
   ]
  },
  {
   "cell_type": "code",
   "execution_count": null,
   "metadata": {},
   "outputs": [],
   "source": [
    "def solution(s):\n",
    "    if s==s[::-1]:\n",
    "        return len(s)\n",
    "    m = 0\n",
    "    for i in range(len(s)):\n",
    "        if i-m>=1 and s[i-m-1:i+1]==s[i-m-1:i+1][::-1]:\n",
    "            m+=2\n",
    "        if i-m>=0 and s[i-m:i+1]==s[i-m:i+1][::-1]:\n",
    "            m+=1\n",
    "    return m"
   ]
  },
  {
   "cell_type": "code",
   "execution_count": null,
   "metadata": {},
   "outputs": [],
   "source": [
    "s = 'ABCDCBAXXX'"
   ]
  },
  {
   "cell_type": "code",
   "execution_count": null,
   "metadata": {},
   "outputs": [],
   "source": [
    "m = 0\n",
    "for i in range(len(s)):\n",
    "    print(s[i-m-1:i+1], s[i-m-1:i+1][::-1])\n",
    "    print(s[i-m:i+1], s[i-m:i+1][::-1])"
   ]
  },
  {
   "cell_type": "code",
   "execution_count": null,
   "metadata": {},
   "outputs": [],
   "source": [
    "m = 0\n",
    "for i in range(len(s)):\n",
    "    print(s[i-m-1:i+1], s[i-m-1:i+1][::-1])\n",
    "    print(s[i-m:i+1], s[i-m:i+1][::-1])\n",
    "    if i-m>=1 and s[i-m-1:i+1]==s[i-m-1:i+1][::-1]:\n",
    "        \n",
    "        m+=2\n",
    "    if i-m>=0 and s[i-m:i+1]==s[i-m:i+1][::-1]:\n",
    "        m+=1"
   ]
  },
  {
   "cell_type": "code",
   "execution_count": null,
   "metadata": {},
   "outputs": [],
   "source": [
    "m, n = 2, 2\n",
    "result = [[0 for i in range(n)]] * m\n",
    "for i in range(m):\n",
    "    result[i][0] = 1\n",
    "for i in range(n):\n",
    "    result[0][i] = 1\n",
    "for i in range(1, m):\n",
    "    for j in range(1, n):\n",
    "        result[i][j] = result[i - 1][j] + result[i][j - 1]\n",
    "print(result)\n"
   ]
  },
  {
   "cell_type": "code",
   "execution_count": null,
   "metadata": {},
   "outputs": [],
   "source": [
    "def good(m,n):\n",
    "    return(m + n)"
   ]
  },
  {
   "cell_type": "code",
   "execution_count": null,
   "metadata": {},
   "outputs": [],
   "source": [
    "good(*map(lambda c:int(c)+1,input().split()))"
   ]
  },
  {
   "cell_type": "code",
   "execution_count": null,
   "metadata": {},
   "outputs": [],
   "source": [
    "def find_gcd(M, N):\n",
    "    while M%N != 0:\n",
    "        Res = M%N\n",
    "        M = N\n",
    "        N = Res\n",
    "    return N"
   ]
  },
  {
   "cell_type": "code",
   "execution_count": null,
   "metadata": {},
   "outputs": [],
   "source": [
    "find_gcd(135, 200)"
   ]
  },
  {
   "cell_type": "code",
   "execution_count": null,
   "metadata": {},
   "outputs": [],
   "source": [
    "A, B = map(int, input().split(' '))\n",
    "print(A * B / find_gcd(A,B))"
   ]
  },
  {
   "cell_type": "code",
   "execution_count": null,
   "metadata": {},
   "outputs": [],
   "source": [
    "N = int(input())\n",
    "while N > 1:\n",
    "    for i in range(2, N + 1):\n",
    "        if N % i == 0:\n",
    "            N = int(N / i )\n",
    "            if N == 1:\n",
    "                print(i)\n",
    "            else:\n",
    "                print(i)\n",
    "            break"
   ]
  },
  {
   "cell_type": "code",
   "execution_count": null,
   "metadata": {},
   "outputs": [],
   "source": [
    "num = int(input())\n",
    "dic = {}\n",
    "for i in range(num):\n",
    "    m, n = map(int, input().split())\n",
    "    if m in dic:\n",
    "        dic[m] += n\n",
    "    else:\n",
    "        dic[m] = n\n",
    "    print(dic)\n",
    "sorted(dic.keys())\n"
   ]
  },
  {
   "cell_type": "code",
   "execution_count": null,
   "metadata": {},
   "outputs": [],
   "source": [
    "print(dic)"
   ]
  },
  {
   "cell_type": "code",
   "execution_count": null,
   "metadata": {},
   "outputs": [],
   "source": [
    "num = str(9876673)\n",
    "print(int(''.join(list(set(num)))))"
   ]
  },
  {
   "cell_type": "code",
   "execution_count": null,
   "metadata": {},
   "outputs": [],
   "source": [
    "print(dedup)"
   ]
  },
  {
   "cell_type": "code",
   "execution_count": null,
   "metadata": {},
   "outputs": [],
   "source": [
    "''.join(dedup)"
   ]
  },
  {
   "cell_type": "code",
   "execution_count": null,
   "metadata": {},
   "outputs": [],
   "source": [
    "S ="
   ]
  },
  {
   "cell_type": "code",
   "execution_count": null,
   "metadata": {},
   "outputs": [],
   "source": [
    "N = int(input())\n",
    "word_list = []\n",
    "for i in range(N):\n",
    "    word_list.append(str(input()))\n",
    "word_list"
   ]
  },
  {
   "cell_type": "code",
   "execution_count": null,
   "metadata": {},
   "outputs": [],
   "source": [
    "word_list.sort()"
   ]
  },
  {
   "cell_type": "code",
   "execution_count": null,
   "metadata": {},
   "outputs": [],
   "source": [
    "word_list"
   ]
  },
  {
   "cell_type": "code",
   "execution_count": null,
   "metadata": {},
   "outputs": [],
   "source": [
    "def low_letter(s):\n",
    "    num_dic = {'1':1,\n",
    "                   'abc':2,\n",
    "                   'def':3,\n",
    "                   'ghi':4,\n",
    "                   'jkl':5,\n",
    "                   'mno':6,\n",
    "                   'pqrs':7,\n",
    "                   'tuv':8,\n",
    "                   'wxyz':9,\n",
    "                   '0':0\n",
    "                  }\n",
    "    for k in num_dic.keys:\n",
    "        if s in k:\n",
    "            return num_dic[k]"
   ]
  },
  {
   "cell_type": "code",
   "execution_count": null,
   "metadata": {},
   "outputs": [],
   "source": [
    "low_letter('g')"
   ]
  },
  {
   "cell_type": "code",
   "execution_count": null,
   "metadata": {},
   "outputs": [],
   "source": [
    "s = 'h'\n",
    "num_dic = {'1':1,'abc':2,'def':3,'ghi':4,'jkl':5,'mno':6,'pqrs':7,'tuv':8,'wxyz':9,'0':0}\n",
    "for k in num_dic.keys():\n",
    "    if s in k:\n",
    "        print(num_dic[k])"
   ]
  },
  {
   "cell_type": "code",
   "execution_count": null,
   "metadata": {},
   "outputs": [],
   "source": [
    "ord('A') - ord('b')"
   ]
  },
  {
   "cell_type": "code",
   "execution_count": null,
   "metadata": {},
   "outputs": [],
   "source": [
    "chr(ord('A')+33)"
   ]
  },
  {
   "cell_type": "code",
   "execution_count": null,
   "metadata": {},
   "outputs": [],
   "source": []
  }
 ],
 "metadata": {
  "kernelspec": {
   "display_name": "Python 3",
   "language": "python",
   "name": "python3"
  },
  "language_info": {
   "codemirror_mode": {
    "name": "ipython",
    "version": 3
   },
   "file_extension": ".py",
   "mimetype": "text/x-python",
   "name": "python",
   "nbconvert_exporter": "python",
   "pygments_lexer": "ipython3",
   "version": "3.7.6"
  }
 },
 "nbformat": 4,
 "nbformat_minor": 4
}
