{
 "cells": [
  {
   "cell_type": "code",
   "execution_count": null,
   "metadata": {},
   "outputs": [],
   "source": [
    "def febonacci(n):\n",
    "    if n <= 0:\n",
    "        return 0\n",
    "    elif n == 1:\n",
    "        return 1\n",
    "    else:\n",
    "        return febonacci(n-1) + febonacci(n-2)"
   ]
  },
  {
   "cell_type": "code",
   "execution_count": null,
   "metadata": {},
   "outputs": [],
   "source": [
    "equation = input()\n",
    "equation = equation.replace('[','(')\n",
    "equation = equation.replace(']',')')\n",
    "equation = equation.replace('{','(')\n",
    "equation = equation.replace('}',')')\n",
    "print(eval(equation))"
   ]
  },
  {
   "cell_type": "code",
   "execution_count": null,
   "metadata": {},
   "outputs": [],
   "source": [
    "def febonacci(n):\n",
    "    if n <= 0:\n",
    "        return 0\n",
    "    elif n == 1:\n",
    "        return 1\n",
    "    else:\n",
    "        return febonacci(n-1) + febonacci(n-2)\n",
    "while True:\n",
    "    try:\n",
    "        month = int(input)\n",
    "        print(febonacci(month))\n",
    "    except:\n",
    "        break"
   ]
  },
  {
   "cell_type": "code",
   "execution_count": null,
   "metadata": {},
   "outputs": [],
   "source": [
    "N1 = [1]\n",
    "N2 = [1,1,1]\n",
    "N3 = [1,2,3,2,1]\n",
    "N4 = [1,3,6,7,6,3,1]\n"
   ]
  },
  {
   "cell_type": "code",
   "execution_count": null,
   "metadata": {},
   "outputs": [],
   "source": [
    "N_temp = N1\n",
    "N_temp.insert(0,0)\n",
    "N_temp.insert(0,0)\n",
    "N_temp.append(0)\n",
    "N_temp.append(0)\n",
    "N_next = []\n",
    "for i in range(len(N_temp) - 2):\n",
    "    N_next.append(N_temp[i] + N_temp[i+1] + N_temp[i+2])\n",
    "print(N_next)\n",
    "N_current = N_next"
   ]
  },
  {
   "cell_type": "code",
   "execution_count": null,
   "metadata": {},
   "outputs": [],
   "source": [
    "N_current = [1]\n",
    "n = 1\n",
    "required_row = int(input())\n",
    "while n < required_row:\n",
    "    N_temp = N_current\n",
    "    N_temp.insert(0,0)\n",
    "    N_temp.insert(0,0)\n",
    "    N_temp.append(0)\n",
    "    N_temp.append(0)\n",
    "    N_next = []\n",
    "    for i in range(len(N_temp) - 2):\n",
    "        N_next.append(N_temp[i] + N_temp[i+1] + N_temp[i+2])\n",
    "    N_current = N_next\n",
    "    n += 1\n",
    "print(N_current)"
   ]
  },
  {
   "cell_type": "code",
   "execution_count": null,
   "metadata": {},
   "outputs": [],
   "source": [
    "def perfect_num(num):\n",
    "    if num == 1 or num == 0:\n",
    "        return False\n",
    "    divisor_list = []\n",
    "    for i in range(num):\n",
    "        if num%(i+1) == 0:\n",
    "            divisor_list.append(i+1)\n",
    "    del divisor_list[-1]\n",
    "    if sum(divisor_list) == num:\n",
    "        return True\n",
    "    else:\n",
    "        return False"
   ]
  },
  {
   "cell_type": "code",
   "execution_count": null,
   "metadata": {},
   "outputs": [],
   "source": [
    "perfect_num(0)"
   ]
  },
  {
   "cell_type": "code",
   "execution_count": null,
   "metadata": {},
   "outputs": [],
   "source": [
    "n = 0\n",
    "num_list = []\n",
    "for i in range(496):\n",
    "    if perfect_num(i+1) == True:\n",
    "        n += 1\n",
    "        print(i+1)"
   ]
  },
  {
   "cell_type": "code",
   "execution_count": 57,
   "metadata": {},
   "outputs": [],
   "source": []
  },
  {
   "cell_type": "code",
   "execution_count": 56,
   "metadata": {},
   "outputs": [
    {
     "data": {
      "text/plain": [
       "2"
      ]
     },
     "execution_count": 56,
     "metadata": {},
     "output_type": "execute_result"
    }
   ],
   "source": [
    "127%5"
   ]
  },
  {
   "cell_type": "code",
   "execution_count": null,
   "metadata": {},
   "outputs": [],
   "source": [
    "perfect_list = []\n",
    "n = 0\n",
    "Pnum = 0\n",
    "P = 1\n",
    "while True:\n",
    "    Pnum = (2**(P -1)) * ( (2**P) - 1) \n",
    "    if prime_check(2**P - 1) == True:\n",
    "        perfect_list.append(Pnum)\n",
    "    P += 1\n",
    "    next\n",
    "    if Pnum > 500000:\n",
    "        break\n",
    "print(perfect_list)"
   ]
  },
  {
   "cell_type": "code",
   "execution_count": 133,
   "metadata": {},
   "outputs": [
    {
     "name": "stdout",
     "output_type": "stream",
     "text": [
      "888.88\n",
      "3\n"
     ]
    }
   ],
   "source": [
    "def prime_check(num):\n",
    "    if num > 1:\n",
    "        for i in range(2,num):\n",
    "            if (num % i) == 0:\n",
    "                   return False\n",
    "                   break\n",
    "        else:\n",
    "            return True \n",
    "    else:\n",
    "        return False\n",
    "\n",
    "while True:\n",
    "    try:\n",
    "        N = int(float(input()))\n",
    "        P = 1\n",
    "        n = 0\n",
    "        x = []\n",
    "        Pnum = ( 2**(P - 1) ) * (2**P - 1)\n",
    "        while Pnum <= N:\n",
    "            if prime_check(2**P - 1) == True:\n",
    "                n += 1\n",
    "                x.append(Pnum)\n",
    "            P += 1\n",
    "            Pnum = (2**(P -1)) * ( (2**P) - 1)\n",
    "        print(len(x))\n",
    "        break\n",
    "    except:\n",
    "        break"
   ]
  },
  {
   "cell_type": "code",
   "execution_count": 134,
   "metadata": {},
   "outputs": [
    {
     "name": "stdout",
     "output_type": "stream",
     "text": [
      "1000\n",
      "3\n"
     ]
    }
   ],
   "source": [
    "def checkprime(num):\n",
    "    if num==1:\n",
    "        return False\n",
    "    list1=[]\n",
    "    for i in range(2,num):\n",
    "        if num%i==0:\n",
    "            list1.append(i)\n",
    "    if not list1:\n",
    "        return True\n",
    "    else:\n",
    "        return False\n",
    "\n",
    "while True:\n",
    "    try:\n",
    "        n=int(input())\n",
    "        res=[]\n",
    "        for i in range(1,n+1):\n",
    "            if (2**i-1)*2**(i-1)>n:\n",
    "                break\n",
    "            elif checkprime(i) and checkprime(2**i-1):\n",
    "                res.append((2**i-1)*2**(i-1))\n",
    "        print(len(res))\n",
    "    except:\n",
    "        break"
   ]
  },
  {
   "cell_type": "code",
   "execution_count": 143,
   "metadata": {},
   "outputs": [
    {
     "data": {
      "text/plain": [
       "['__doc__',\n",
       " '__loader__',\n",
       " '__name__',\n",
       " '__package__',\n",
       " '__spec__',\n",
       " '_grouper',\n",
       " '_tee',\n",
       " '_tee_dataobject',\n",
       " 'accumulate',\n",
       " 'chain',\n",
       " 'combinations',\n",
       " 'combinations_with_replacement',\n",
       " 'compress',\n",
       " 'count',\n",
       " 'cycle',\n",
       " 'dropwhile',\n",
       " 'filterfalse',\n",
       " 'groupby',\n",
       " 'islice',\n",
       " 'permutations',\n",
       " 'product',\n",
       " 'repeat',\n",
       " 'starmap',\n",
       " 'takewhile',\n",
       " 'tee',\n",
       " 'zip_longest']"
      ]
     },
     "execution_count": 143,
     "metadata": {},
     "output_type": "execute_result"
    }
   ],
   "source": [
    "import itertools\n",
    "dir(itertools)"
   ]
  },
  {
   "cell_type": "code",
   "execution_count": 144,
   "metadata": {},
   "outputs": [
    {
     "name": "stdout",
     "output_type": "stream",
     "text": [
      "Help on class combinations in module itertools:\n",
      "\n",
      "class combinations(builtins.object)\n",
      " |  combinations(iterable, r) --> combinations object\n",
      " |  \n",
      " |  Return successive r-length combinations of elements in the iterable.\n",
      " |  \n",
      " |  combinations(range(4), 3) --> (0,1,2), (0,1,3), (0,2,3), (1,2,3)\n",
      " |  \n",
      " |  Methods defined here:\n",
      " |  \n",
      " |  __getattribute__(self, name, /)\n",
      " |      Return getattr(self, name).\n",
      " |  \n",
      " |  __iter__(self, /)\n",
      " |      Implement iter(self).\n",
      " |  \n",
      " |  __next__(self, /)\n",
      " |      Implement next(self).\n",
      " |  \n",
      " |  __reduce__(...)\n",
      " |      Return state information for pickling.\n",
      " |  \n",
      " |  __setstate__(...)\n",
      " |      Set state information for unpickling.\n",
      " |  \n",
      " |  __sizeof__(...)\n",
      " |      Returns size in memory, in bytes.\n",
      " |  \n",
      " |  ----------------------------------------------------------------------\n",
      " |  Static methods defined here:\n",
      " |  \n",
      " |  __new__(*args, **kwargs) from builtins.type\n",
      " |      Create and return a new object.  See help(type) for accurate signature.\n",
      "\n"
     ]
    }
   ],
   "source": [
    "help(itertools.combinations)"
   ]
  },
  {
   "cell_type": "code",
   "execution_count": 146,
   "metadata": {},
   "outputs": [
    {
     "name": "stdout",
     "output_type": "stream",
     "text": [
      "7\n",
      "3\n",
      "3\n"
     ]
    }
   ],
   "source": [
    "while True:\n",
    "    try:\n",
    "        M = int(input())\n",
    "        N = int(input())\n",
    "        combos = itertools.combinations(range(M),N)\n",
    "        combos\n",
    "        break\n",
    "    except:\n",
    "        break"
   ]
  },
  {
   "cell_type": "code",
   "execution_count": 149,
   "metadata": {},
   "outputs": [
    {
     "name": "stdout",
     "output_type": "stream",
     "text": [
      "(0, 1, 2)\n",
      "(0, 1, 3)\n",
      "(0, 1, 4)\n",
      "(0, 1, 5)\n",
      "(0, 1, 6)\n",
      "(0, 2, 3)\n",
      "(0, 2, 4)\n",
      "(0, 2, 5)\n",
      "(0, 2, 6)\n",
      "(0, 3, 4)\n",
      "(0, 3, 5)\n",
      "(0, 3, 6)\n",
      "(0, 4, 5)\n",
      "(0, 4, 6)\n",
      "(0, 5, 6)\n",
      "(1, 2, 3)\n",
      "(1, 2, 4)\n",
      "(1, 2, 5)\n",
      "(1, 2, 6)\n",
      "(1, 3, 4)\n",
      "(1, 3, 5)\n",
      "(1, 3, 6)\n",
      "(1, 4, 5)\n",
      "(1, 4, 6)\n",
      "(1, 5, 6)\n",
      "(2, 3, 4)\n",
      "(2, 3, 5)\n",
      "(2, 3, 6)\n",
      "(2, 4, 5)\n",
      "(2, 4, 6)\n",
      "(2, 5, 6)\n",
      "(3, 4, 5)\n",
      "(3, 4, 6)\n",
      "(3, 5, 6)\n",
      "(4, 5, 6)\n"
     ]
    }
   ],
   "source": [
    "for i in itertools.combinations(range(7),3):\n",
    "    print(i)"
   ]
  },
  {
   "cell_type": "code",
   "execution_count": 6,
   "metadata": {},
   "outputs": [],
   "source": [
    "def PutApple(apple,plate):\n",
    "    if apple == 0:\n",
    "        return 1\n",
    "    elif plate == 1:\n",
    "        return 1\n",
    "    elif apple < plate:\n",
    "        return PutApple(apple, apple)\n",
    "    elif apple >= plate:\n",
    "        return PutApple(apple, plate - 1) + PutApple(apple - plate, plate)\n"
   ]
  },
  {
   "cell_type": "code",
   "execution_count": 29,
   "metadata": {},
   "outputs": [
    {
     "name": "stdout",
     "output_type": "stream",
     "text": [
      "7 3\n"
     ]
    }
   ],
   "source": [
    "m,n = map(int,input().split())"
   ]
  },
  {
   "cell_type": "code",
   "execution_count": 25,
   "metadata": {},
   "outputs": [
    {
     "name": "stdout",
     "output_type": "stream",
     "text": [
      "7.1 3.1\n",
      "8\n"
     ]
    }
   ],
   "source": [
    "M, N = input().split(\" \")\n",
    "M = int(float(M))\n",
    "N = int(float(N))\n",
    "print(putApple(M, N))"
   ]
  },
  {
   "cell_type": "code",
   "execution_count": 9,
   "metadata": {},
   "outputs": [
    {
     "name": "stdout",
     "output_type": "stream",
     "text": [
      "7 3\n"
     ]
    }
   ],
   "source": [
    "while True:\n",
    "    try:\n",
    "        M, N = str(input()).split(' ')\n",
    "        print(PutApple(M,N))\n",
    "        break\n",
    "    except:\n",
    "        break"
   ]
  },
  {
   "cell_type": "code",
   "execution_count": 18,
   "metadata": {},
   "outputs": [
    {
     "name": "stdout",
     "output_type": "stream",
     "text": [
      "7 3\n",
      "8\n"
     ]
    }
   ],
   "source": [
    "def putApple(a, p):\n",
    "\tif a == 0:\n",
    "\t\treturn 1\n",
    "\tif p == 1:\n",
    "\t\treturn 1\n",
    "\telif a < p:\n",
    "\t\treturn putApple(a, a)\n",
    "\telse:\n",
    "\t\treturn putApple(a-p, p) + putApple(a, p-1)\n",
    "\n",
    "m, n = input().split(\" \")\n",
    "result = putApple(int(m), int(n))\n",
    "print(result)"
   ]
  },
  {
   "cell_type": "code",
   "execution_count": 20,
   "metadata": {},
   "outputs": [
    {
     "name": "stdout",
     "output_type": "stream",
     "text": [
      "7.4 3.1\n"
     ]
    }
   ],
   "source": [
    "def PutApple(apple,plate):\n",
    "    if apple == 0:\n",
    "        return 1\n",
    "    elif plate == 1:\n",
    "        return 1\n",
    "    elif apple < plate:\n",
    "        return PutApple(apple, apple)\n",
    "    elif apple >= plate:\n",
    "        return PutApple(apple, plate - 1) + PutApple(apple - plate, plate)\n",
    "while True:\n",
    "    try:\n",
    "        M, N = input().split(\" \")\n",
    "        print(PutApple(int(M),int(N)))\n",
    "        break\n",
    "    except:\n",
    "        break"
   ]
  },
  {
   "cell_type": "code",
   "execution_count": 1,
   "metadata": {},
   "outputs": [
    {
     "ename": "AttributeError",
     "evalue": "'list' object has no attribute 'contain'",
     "output_type": "error",
     "traceback": [
      "\u001b[0;31m---------------------------------------------------------------------------\u001b[0m",
      "\u001b[0;31mAttributeError\u001b[0m                            Traceback (most recent call last)",
      "\u001b[0;32m<ipython-input-1-b5b3738d7a3c>\u001b[0m in \u001b[0;36m<module>\u001b[0;34m\u001b[0m\n\u001b[0;32m----> 1\u001b[0;31m \u001b[0;34m[\u001b[0m\u001b[0;34m'what is your name'\u001b[0m\u001b[0;34m]\u001b[0m\u001b[0;34m.\u001b[0m\u001b[0mcontain\u001b[0m\u001b[0;34m(\u001b[0m\u001b[0;34m'w i'\u001b[0m\u001b[0;34m)\u001b[0m\u001b[0;34m\u001b[0m\u001b[0;34m\u001b[0m\u001b[0m\n\u001b[0m",
      "\u001b[0;31mAttributeError\u001b[0m: 'list' object has no attribute 'contain'"
     ]
    }
   ],
   "source": [
    "['what is your name'].contain('w i')"
   ]
  },
  {
   "cell_type": "code",
   "execution_count": 4,
   "metadata": {},
   "outputs": [
    {
     "data": {
      "text/plain": [
       "False"
      ]
     },
     "execution_count": 4,
     "metadata": {},
     "output_type": "execute_result"
    }
   ],
   "source": [
    "\"B B\" in ['Break Bad']"
   ]
  },
  {
   "cell_type": "code",
   "execution_count": 20,
   "metadata": {},
   "outputs": [],
   "source": [
    "import re"
   ]
  },
  {
   "cell_type": "code",
   "execution_count": 28,
   "metadata": {},
   "outputs": [],
   "source": [
    "s = 'Hello world'"
   ]
  },
  {
   "cell_type": "code",
   "execution_count": 30,
   "metadata": {},
   "outputs": [
    {
     "name": "stdout",
     "output_type": "stream",
     "text": [
      "2\n"
     ]
    }
   ],
   "source": [
    "if 'llo' in s:\n",
    "    print(2)"
   ]
  },
  {
   "cell_type": "code",
   "execution_count": 25,
   "metadata": {},
   "outputs": [
    {
     "ename": "SyntaxError",
     "evalue": "invalid syntax (<ipython-input-25-774f1dd50554>, line 1)",
     "output_type": "error",
     "traceback": [
      "\u001b[0;36m  File \u001b[0;32m\"<ipython-input-25-774f1dd50554>\"\u001b[0;36m, line \u001b[0;32m1\u001b[0m\n\u001b[0;31m    if\u001b[0m\n\u001b[0m       ^\u001b[0m\n\u001b[0;31mSyntaxError\u001b[0m\u001b[0;31m:\u001b[0m invalid syntax\n"
     ]
    }
   ],
   "source": [
    "if "
   ]
  },
  {
   "cell_type": "code",
   "execution_count": 1,
   "metadata": {},
   "outputs": [],
   "source": [
    "cmd_dic1 = {'reset':'reset what', 'unkcmd':'unknown commond'}\n",
    "cmd_dic2 = {'reset board': 'board fault',\n",
    "            'board add': 'where to add',\n",
    "            'board delete': 'no board at all',\n",
    "            'reboot backplane': 'impossible',\n",
    "            'backplane absot': 'install first'}"
   ]
  },
  {
   "cell_type": "code",
   "execution_count": 13,
   "metadata": {},
   "outputs": [
    {
     "data": {
      "text/plain": [
       "'bo'"
      ]
     },
     "execution_count": 13,
     "metadata": {},
     "output_type": "execute_result"
    }
   ],
   "source": [
    "cmd1 = 're'\n",
    "cmd2 = 'b d'\n",
    "cmd3 = 'gg'\n",
    "cmd1\n",
    "cmd_dic2['reset board'][:len(cmd1)]"
   ]
  },
  {
   "cell_type": "code",
   "execution_count": 16,
   "metadata": {},
   "outputs": [
    {
     "data": {
      "text/plain": [
       "True"
      ]
     },
     "execution_count": 16,
     "metadata": {},
     "output_type": "execute_result"
    }
   ],
   "source": [
    "cmd1 in cmd_dic1['reset'][:len(cmd1)]"
   ]
  },
  {
   "cell_type": "code",
   "execution_count": 43,
   "metadata": {},
   "outputs": [
    {
     "name": "stdout",
     "output_type": "stream",
     "text": [
      "res\n",
      "reset what\n"
     ]
    }
   ],
   "source": [
    "while True:\n",
    "    try:\n",
    "        cmd = input().split()\n",
    "        cmd_dic1 = {'reset':'reset what'}\n",
    "        cmd_dic2 = {'reset board': 'board fault',\n",
    "                    'board add': 'where to add',\n",
    "                    'board delete': 'no board at all',\n",
    "                    'reboot backplane': 'impossible',\n",
    "                    'backplane abort': 'install first'}\n",
    "        unkcmd = 'unknown command'\n",
    "        finding_flag = False\n",
    "        if len(cmd) == 1:\n",
    "            for key in cmd_dic1.keys():\n",
    "                if cmd[0] in key[:len(cmd[0])]:\n",
    "                    print(cmd_dic1[key])\n",
    "                    finding_flag = True\n",
    "            if not finding_flag:\n",
    "                print(unkcmd)\n",
    "        elif len(cmd) == 2:\n",
    "            for key in cmd_dic2.keys():\n",
    "                if cmd[0] in key[:len(cmd[0])] and cmd[1] in key.split()[1][:len(cmd[1])]:\n",
    "                    print(cmd_dic2[key])\n",
    "                    finding_flag = True\n",
    "            if not finding_flag:\n",
    "                print(unkcmd)\n",
    "        else:\n",
    "            print(unkcmd)\n",
    "    except:\n",
    "        break"
   ]
  },
  {
   "cell_type": "code",
   "execution_count": 38,
   "metadata": {},
   "outputs": [
    {
     "name": "stdout",
     "output_type": "stream",
     "text": [
      "res\n",
      "reset what\n"
     ]
    }
   ],
   "source": [
    "cmd = input().split()\n",
    "cmd_dic1 = {'reset':'reset what'}\n",
    "cmd_dic2 = {'reset board': 'board fault',\n",
    "            'board add': 'where to add',\n",
    "            'board delete': 'no board at all',\n",
    "            'reboot backplane': 'impossible',\n",
    "            'backplane abort': 'install first'}\n",
    "unkcmd = 'unknown cmmand'\n",
    "finding_flag = False\n",
    "if len(cmd) == 1:\n",
    "    for key in cmd_dic1.keys():\n",
    "        if cmd[0] in key[:len(cmd[0])]:\n",
    "            print(cmd_dic1[key])\n",
    "            finding_flag = True\n",
    "    if not finding_flag:\n",
    "            print(unkcmd)\n",
    "if len(cmd) == 2:\n",
    "    for key in cmd_dic2.keys():\n",
    "        if cmd[0] in key[:len(cmd[0])] and cmd[1] in key.split()[1][:len(cmd[1])]:\n",
    "            print(cmd_dic2[key])\n",
    "            finding_flag = True\n",
    "    if not finding_flag:\n",
    "        print(unkcmd)"
   ]
  },
  {
   "cell_type": "code",
   "execution_count": null,
   "metadata": {},
   "outputs": [],
   "source": [
    "while True:\n",
    "    try:\n",
    "        cmd = input().split()\n",
    "        cmd_dic1 = {'reset':'reset what'}\n",
    "        cmd_dic2 = {'reset board': 'board fault',\n",
    "                    'board add': 'where to add',\n",
    "                    'board delete': 'no board at all',\n",
    "                    'reboot backplane': 'impossible',\n",
    "                    'backplane abort': 'install first'}\n",
    "        unkcmd = 'unknown command'\n",
    "        finding_flag = False\n",
    "        if len(cmd) is 1:\n",
    "            for key in cmd_dic1.keys():\n",
    "                if cmd[0] in key[:len(cmd[0])]:\n",
    "                    print(cmd_dic1[key])\n",
    "                    finding_flag = True\n",
    "            if not finding_flag:\n",
    "                    print(unkcmd,1)\n",
    "        if len(cmd) is 2:\n",
    "            for key in cmd_dic2.keys():\n",
    "                if cmd[0] in key[:len(cmd[0])] and cmd[1] in key.split()[1][:len(cmd[1])]:\n",
    "                    print(cmd_dic2[key])\n",
    "                    finding_flag = True\n",
    "            if not finding_flag:\n",
    "                print(unkcmd,2)\n",
    "        else:\n",
    "            print(unkcmd,3)\n",
    "    except:\n",
    "        break"
   ]
  },
  {
   "cell_type": "code",
   "execution_count": 49,
   "metadata": {},
   "outputs": [
    {
     "name": "stdout",
     "output_type": "stream",
     "text": [
      "1\n",
      "2\n",
      "3\n",
      "4\n",
      "5\n",
      "6\n",
      "7\n",
      "8\n",
      "9\n",
      "10\n",
      "11\n",
      "12\n",
      "13\n",
      "14\n",
      "15\n",
      "16\n",
      "17\n",
      "18\n",
      "19\n"
     ]
    }
   ],
   "source": [
    "for x in range(1,20):\n",
    "    print(x)"
   ]
  },
  {
   "cell_type": "code",
   "execution_count": 56,
   "metadata": {},
   "outputs": [
    {
     "name": "stdout",
     "output_type": "stream",
     "text": [
      "0 25 75\n",
      "4 18 78\n",
      "8 11 81\n",
      "12 4 84\n"
     ]
    }
   ],
   "source": [
    "total_money = 100  \n",
    "for x in range(0, int(total_money/5)):\n",
    "    for y in range(1, int(total_money/3)):\n",
    "        if 5 * x + 3 * y + 1/3 * (100 - x - y) == 100:\n",
    "            print(x, y, 100 - x - y)"
   ]
  },
  {
   "cell_type": "code",
   "execution_count": null,
   "metadata": {},
   "outputs": [],
   "source": []
  }
 ],
 "metadata": {
  "kernelspec": {
   "display_name": "Python 3",
   "language": "python",
   "name": "python3"
  },
  "language_info": {
   "codemirror_mode": {
    "name": "ipython",
    "version": 3
   },
   "file_extension": ".py",
   "mimetype": "text/x-python",
   "name": "python",
   "nbconvert_exporter": "python",
   "pygments_lexer": "ipython3",
   "version": "3.7.6"
  }
 },
 "nbformat": 4,
 "nbformat_minor": 4
}
