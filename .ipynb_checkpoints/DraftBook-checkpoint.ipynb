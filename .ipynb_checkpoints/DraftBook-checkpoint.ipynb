{
 "cells": [
  {
   "cell_type": "code",
   "execution_count": null,
   "metadata": {},
   "outputs": [],
   "source": [
    "def febonacci(n):\n",
    "    if n <= 0:\n",
    "        return 0\n",
    "    elif n == 1:\n",
    "        return 1\n",
    "    else:\n",
    "        return febonacci(n-1) + febonacci(n-2)"
   ]
  },
  {
   "cell_type": "code",
   "execution_count": null,
   "metadata": {},
   "outputs": [],
   "source": [
    "equation = input()\n",
    "equation = equation.replace('[','(')\n",
    "equation = equation.replace(']',')')\n",
    "equation = equation.replace('{','(')\n",
    "equation = equation.replace('}',')')\n",
    "print(eval(equation))"
   ]
  },
  {
   "cell_type": "code",
   "execution_count": null,
   "metadata": {},
   "outputs": [],
   "source": [
    "def febonacci(n):\n",
    "    if n <= 0:\n",
    "        return 0\n",
    "    elif n == 1:\n",
    "        return 1\n",
    "    else:\n",
    "        return febonacci(n-1) + febonacci(n-2)\n",
    "while True:\n",
    "    try:\n",
    "        month = int(input)\n",
    "        print(febonacci(month))\n",
    "    except:\n",
    "        break"
   ]
  },
  {
   "cell_type": "code",
   "execution_count": null,
   "metadata": {},
   "outputs": [],
   "source": [
    "N1 = [1]\n",
    "N2 = [1,1,1]\n",
    "N3 = [1,2,3,2,1]\n",
    "N4 = [1,3,6,7,6,3,1]\n"
   ]
  },
  {
   "cell_type": "code",
   "execution_count": null,
   "metadata": {},
   "outputs": [],
   "source": [
    "N_temp = N1\n",
    "N_temp.insert(0,0)\n",
    "N_temp.insert(0,0)\n",
    "N_temp.append(0)\n",
    "N_temp.append(0)\n",
    "N_next = []\n",
    "for i in range(len(N_temp) - 2):\n",
    "    N_next.append(N_temp[i] + N_temp[i+1] + N_temp[i+2])\n",
    "print(N_next)\n",
    "N_current = N_next"
   ]
  },
  {
   "cell_type": "code",
   "execution_count": null,
   "metadata": {},
   "outputs": [],
   "source": [
    "N_current = [1]\n",
    "n = 1\n",
    "required_row = int(input())\n",
    "while n < required_row:\n",
    "    N_temp = N_current\n",
    "    N_temp.insert(0,0)\n",
    "    N_temp.insert(0,0)\n",
    "    N_temp.append(0)\n",
    "    N_temp.append(0)\n",
    "    N_next = []\n",
    "    for i in range(len(N_temp) - 2):\n",
    "        N_next.append(N_temp[i] + N_temp[i+1] + N_temp[i+2])\n",
    "    N_current = N_next\n",
    "    n += 1\n",
    "print(N_current)"
   ]
  },
  {
   "cell_type": "code",
   "execution_count": null,
   "metadata": {},
   "outputs": [],
   "source": [
    "def perfect_num(num):\n",
    "    if num == 1 or num == 0:\n",
    "        return False\n",
    "    divisor_list = []\n",
    "    for i in range(num):\n",
    "        if num%(i+1) == 0:\n",
    "            divisor_list.append(i+1)\n",
    "    del divisor_list[-1]\n",
    "    if sum(divisor_list) == num:\n",
    "        return True\n",
    "    else:\n",
    "        return False"
   ]
  },
  {
   "cell_type": "code",
   "execution_count": null,
   "metadata": {},
   "outputs": [],
   "source": [
    "perfect_num(0)"
   ]
  },
  {
   "cell_type": "code",
   "execution_count": null,
   "metadata": {},
   "outputs": [],
   "source": [
    "n = 0\n",
    "num_list = []\n",
    "for i in range(496):\n",
    "    if perfect_num(i+1) == True:\n",
    "        n += 1\n",
    "        print(i+1)"
   ]
  },
  {
   "cell_type": "code",
   "execution_count": 57,
   "metadata": {},
   "outputs": [],
   "source": [
    "def prime_check(num):\n",
    "    if num > 1:\n",
    "        for i in range(2,num):\n",
    "            if (num % i) == 0:\n",
    "                   return False\n",
    "                   break\n",
    "        else:\n",
    "            return True \n",
    "    else:\n",
    "        return False"
   ]
  },
  {
   "cell_type": "code",
   "execution_count": 56,
   "metadata": {},
   "outputs": [
    {
     "data": {
      "text/plain": [
       "2"
      ]
     },
     "execution_count": 56,
     "metadata": {},
     "output_type": "execute_result"
    }
   ],
   "source": [
    "127%5"
   ]
  },
  {
   "cell_type": "code",
   "execution_count": null,
   "metadata": {},
   "outputs": [],
   "source": [
    "perfect_list = []\n",
    "n = 0\n",
    "Pnum = 0\n",
    "P = 1\n",
    "while True:\n",
    "    Pnum = (2**(P -1)) * ( (2**P) - 1) \n",
    "    if prime_check(2**P - 1) == True:\n",
    "        perfect_list.append(Pnum)\n",
    "    P += 1\n",
    "    next\n",
    "    if Pnum > 500000:\n",
    "        break\n",
    "print(perfect_list)"
   ]
  },
  {
   "cell_type": "code",
   "execution_count": 101,
   "metadata": {},
   "outputs": [
    {
     "name": "stdout",
     "output_type": "stream",
     "text": [
      "3000\n",
      "6\n",
      "28\n",
      "120\n",
      "496\n",
      "2016\n",
      "8128\n",
      "3 [6, 28, 496]\n"
     ]
    }
   ],
   "source": [
    "while True:\n",
    "    try:\n",
    "        N = int(input())\n",
    "        P = 1\n",
    "        n = 0\n",
    "        x = []\n",
    "        Pnum = ( 2**(P - 1) ) * (2**P - 1)\n",
    "        while Pnum <= N:\n",
    "            if prime_check(2**P - 1) == True:\n",
    "                n += 1\n",
    "                x.append(Pnum)\n",
    "            P += 1\n",
    "            Pnum = (2**(P -1)) * ( (2**P) - 1)\n",
    "        print(n)\n",
    "        break\n",
    "    except:\n",
    "        break"
   ]
  },
  {
   "cell_type": "code",
   "execution_count": 96,
   "metadata": {},
   "outputs": [
    {
     "data": {
      "text/plain": [
       "496"
      ]
     },
     "execution_count": 96,
     "metadata": {},
     "output_type": "execute_result"
    }
   ],
   "source": [
    "P = 5\n",
    "Pnum = (2 **(P - 1)) * ( (2**P) - 1)\n",
    "Pnum"
   ]
  },
  {
   "cell_type": "markdown",
   "metadata": {},
   "source": [
    "# 1000"
   ]
  }
 ],
 "metadata": {
  "kernelspec": {
   "display_name": "Python 3",
   "language": "python",
   "name": "python3"
  },
  "language_info": {
   "codemirror_mode": {
    "name": "ipython",
    "version": 3
   },
   "file_extension": ".py",
   "mimetype": "text/x-python",
   "name": "python",
   "nbconvert_exporter": "python",
   "pygments_lexer": "ipython3",
   "version": "3.7.6"
  }
 },
 "nbformat": 4,
 "nbformat_minor": 4
}
